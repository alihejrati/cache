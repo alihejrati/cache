{
  "nbformat": 4,
  "nbformat_minor": 0,
  "metadata": {
    "colab": {
      "provenance": []
    },
    "kernelspec": {
      "name": "python3",
      "display_name": "Python 3"
    },
    "language_info": {
      "name": "python"
    }
  },
  "cells": [
    {
      "cell_type": "code",
      "execution_count": null,
      "metadata": {
        "cellView": "form",
        "id": "TsHY6KLQjiSP"
      },
      "outputs": [],
      "source": [
        "!rm -rf /content/alias.bash\n",
        "project = 'mlp' #@param {type:\"string\"}\n",
        "project = ' '.join([p for p in project.split(' ') if p])\n",
        "!wget 'https://raw.githubusercontent.com/halfbloodprincecode/GENIE_ML/master/alias.bash' -O alias.bash\n",
        "!sed -i '1s/^/shopt -s expand_aliases\\n\\n/' alias.bash\n",
        "make = True #@param {type:\"boolean\"}\n",
        "install = False #@param {type:\"boolean\"}\n",
        "if not make:\n",
        "  if install:\n",
        "    project_split = project.split(' ')\n",
        "    if len(project_split) >=2:\n",
        "      project_split[1] += 'i' \n",
        "    project = ' '.join(project_split)\n",
        "    !echo -e \"\\n\\ninit-colab-i \\\"$project\\\"\" >> alias.bash\n",
        "  else:\n",
        "    !echo -e \"\\n\\ninit-colab \\\"$project\\\"\" >> alias.bash\n",
        "else:\n",
        "  !echo -e \"\\n\\nPmake-pl-colab \\\"$project\\\"\" >> alias.bash\n",
        "!bash alias.bash"
      ]
    },
    {
      "cell_type": "code",
      "source": [
        "from google.colab import drive\n",
        "drive.mount('/content/drive')"
      ],
      "metadata": {
        "colab": {
          "base_uri": "https://localhost:8080/"
        },
        "id": "lpFvB9S6wir2",
        "outputId": "16aadba1-7131-4fe6-fc79-5cec75f25024"
      },
      "execution_count": 1,
      "outputs": [
        {
          "output_type": "stream",
          "name": "stdout",
          "text": [
            "Mounted at /content/drive\n"
          ]
        }
      ]
    }
  ]
}