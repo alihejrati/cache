{
  "nbformat": 4,
  "nbformat_minor": 0,
  "metadata": {
    "colab": {
      "provenance": []
    },
    "kernelspec": {
      "name": "python3",
      "display_name": "Python 3"
    },
    "language_info": {
      "name": "python"
    }
  },
  "cells": [
    {
      "cell_type": "code",
      "source": [
        "from google.colab import drive\n",
        "drive.mount('/content/drive')"
      ],
      "metadata": {
        "id": "bUP2pw3HRMAz"
      },
      "execution_count": null,
      "outputs": []
    },
    {
      "cell_type": "code",
      "execution_count": null,
      "metadata": {
        "cellView": "form",
        "id": "TsHY6KLQjiSP"
      },
      "outputs": [],
      "source": [
        "project = 'P' #@param {type:\"string\"}\n",
        "project = ' '.join([p for p in project.split(' ') if p])\n",
        "!wget -N 'https://raw.githubusercontent.com/halfbloodprincecode/GENIE_ML/master/alias.bash' -O alias.bash\n",
        "!sed -i '1s/^/shopt -s expand_aliases\\n\\n/' alias.bash\n",
        "make = False #@param {type:\"boolean\"}\n",
        "install = True #@param {type:\"boolean\"}\n",
        "if make == False:\n",
        "  project = \"Pgml \" + project\n",
        "\n",
        "if not make:\n",
        "  if install:\n",
        "    project_split = project.split(' ')\n",
        "    if len(project_split) >=2:\n",
        "      project_split[1] += 'i' \n",
        "    project = ' '.join(project_split)\n",
        "    !echo -e \"\\n\\ninit-colab-i \\\"$project\\\"\" >> alias.bash\n",
        "  else:\n",
        "    !echo -e \"\\n\\ninit-colab \\\"$project\\\"\" >> alias.bash\n",
        "else:\n",
        "  !echo -e \"\\n\\nPmake-pl-colab \\\"$project\\\"\" >> alias.bash\n",
        "!bash alias.bash"
      ]
    }
  ]
}