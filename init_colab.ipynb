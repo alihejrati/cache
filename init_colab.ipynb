{
  "nbformat": 4,
  "nbformat_minor": 0,
  "metadata": {
    "colab": {
      "provenance": []
    },
    "kernelspec": {
      "name": "python3",
      "display_name": "Python 3"
    },
    "language_info": {
      "name": "python"
    }
  },
  "cells": [
    {
      "cell_type": "code",
      "execution_count": null,
      "metadata": {
        "cellView": "form",
        "id": "TsHY6KLQjiSP"
      },
      "outputs": [],
      "source": [
        "project = 'Pgml P ' #@param {type:\"string\"}\n",
        "!wget 'https://raw.githubusercontent.com/halfbloodprincecode/GENIE_ML/master/alias.bash' -O alias.bash\n",
        "!sed -i '1s/^/shopt -s expand_aliases\\n\\n/' alias.bash\n",
        "install_dependency = True #@param {type:\"boolean\"}\n",
        "if install_dependency:\n",
        "  !echo -e \"\\n\\ninit-colab-i \\\"$project\\\"\" >> alias.bash\n",
        "else:\n",
        "  !echo -e \"\\n\\ninit-colab \\\"$project\\\"\" >> alias.bash\n",
        "!bash alias.bash"
      ]
    }
  ]
}